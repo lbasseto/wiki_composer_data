{
 "cells": [
  {
   "cell_type": "code",
   "execution_count": null,
   "metadata": {},
   "outputs": [
    {
     "name": "stdout",
     "output_type": "stream",
     "text": [
      "50\n",
      "100\n",
      "150\n",
      "200\n",
      "250\n",
      "300\n",
      "350\n",
      "400\n",
      "450\n"
     ]
    }
   ],
   "source": [
    "import wikipedia\n",
    "\n",
    "\n",
    "def getWikiPage(link):\n",
    "    try:\n",
    "        composer = wikipedia.page(title=link, auto_suggest=False)\n",
    "        return composer\n",
    "    except:\n",
    "        pass\n",
    "    try:\n",
    "        composer = wikipedia.page(title=link, auto_suggest=True)\n",
    "        return composer\n",
    "    except:\n",
    "        return None\n",
    "\n",
    "links_set = set()\n",
    "links_set |= set(getWikiPage(\"List_of_medieval_composers\").links)\n",
    "links_set |= set(getWikiPage(\"List_of_Renaissance_composers\").links)\n",
    "links_set |= set(getWikiPage(\"List_of_Baroque_composers\").links)\n",
    "links_set |= set(getWikiPage(\"List_of_Classical-era_composers\").links)\n",
    "links_set |= set(getWikiPage(\"List_of_Romantic-era_composers\").links)\n",
    "links_set |= set(getWikiPage(\"List_of_20th-century_classical_composers\").links)\n",
    "links_set |= set(getWikiPage(\"List_of_21st-century_classical_composers\").links)\n",
    "links = list(links_set)\n",
    "\n",
    "blacklist = (\"romantic music\", \"list of\")\n",
    "relations = {}\n",
    "index = 0\n",
    "for link in links:\n",
    "    if link.lower().startswith(blacklist):\n",
    "        continue\n",
    "    \n",
    "    composer = getWikiPage(link)\n",
    "    if composer == None:\n",
    "        continue\n",
    "    index += 1\n",
    "    if index % 50 == 0:\n",
    "        print(index)\n",
    "    for category in composer.categories:\n",
    "        if 'composer' in category.lower():\n",
    "            relations[link] = composer.links\n",
    "            break\n",
    "allComposers = relations.keys()\n"
   ]
  },
  {
   "cell_type": "code",
   "execution_count": null,
   "metadata": {},
   "outputs": [],
   "source": [
    "def filterComposerRelationsOnly(relationsOfComposer, allComposers):\n",
    "    return [relation for relation in relationsOfComposer if relation in allComposers]\n",
    "\n",
    "relations = {k: filterComposerRelationsOnly(relationsOfComposer, allComposers) for k, relationsOfComposer in relations.items()}\n"
   ]
  },
  {
   "cell_type": "code",
   "execution_count": null,
   "metadata": {},
   "outputs": [],
   "source": [
    "file = open(\"followerFolloweeRomantic.txt\",\"w\") \n",
    "for followeeComposer,followedComposers in relations.items():\n",
    "    for followedComposer in followedComposers:\n",
    "        file.write(followeeComposer+\",\"+followedComposer+\"\\n\")  \n",
    "file.close() "
   ]
  },
  {
   "cell_type": "code",
   "execution_count": null,
   "metadata": {},
   "outputs": [],
   "source": []
  }
 ],
 "metadata": {
  "kernelspec": {
   "display_name": "Python 3",
   "language": "python",
   "name": "python3"
  },
  "language_info": {
   "codemirror_mode": {
    "name": "ipython",
    "version": 3
   },
   "file_extension": ".py",
   "mimetype": "text/x-python",
   "name": "python",
   "nbconvert_exporter": "python",
   "pygments_lexer": "ipython3",
   "version": "3.6.4"
  }
 },
 "nbformat": 4,
 "nbformat_minor": 2
}
