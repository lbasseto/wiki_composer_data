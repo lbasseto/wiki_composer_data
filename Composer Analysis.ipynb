{
 "cells": [
  {
   "cell_type": "code",
   "execution_count": 1,
   "metadata": {},
   "outputs": [],
   "source": [
    "import wikipedia"
   ]
  },
  {
   "cell_type": "code",
   "execution_count": null,
   "metadata": {
    "scrolled": true
   },
   "outputs": [
    {
     "name": "stdout",
     "output_type": "stream",
     "text": [
      "composer_count: 10\n",
      "composer_count: 20\n",
      "ERROR Jeanne Leleu------------------------------\n",
      "composer_count: 30\n",
      "composer_count: 40\n",
      "composer_count: 50\n",
      "ERROR Paul I, Prince Esterházy------------------------------\n",
      "ERROR Julie Reisserová------------------------------\n",
      "ERROR Michel van der Aa------------------------------\n",
      "ERROR Hieronymus Praetorius------------------------------\n",
      "composer_count: 60\n",
      "composer_count: 70\n",
      "ERROR Johannes Cuvelier------------------------------\n",
      "composer_count: 80\n"
     ]
    }
   ],
   "source": [
    "# Fetch wikipedia page from a page name. Tries with and without autosuggest. Return None if no page was found.\n",
    "def get_wiki_page(link):\n",
    "    try:\n",
    "        composer = wikipedia.page(title=link, auto_suggest=False)\n",
    "        return composer\n",
    "    except:\n",
    "        pass\n",
    "    try:\n",
    "        composer = wikipedia.page(title=link, auto_suggest=True)\n",
    "        return composer\n",
    "    except:\n",
    "        return None\n",
    "\n",
    "# Bulk addition of a tag to the information dict.\n",
    "def add_information(info_dict, name_set, tag_key, tag_value):\n",
    "    for name in name_set:\n",
    "        if name in info_dict:\n",
    "            info_dict[name][tag_key] = tag_value\n",
    "        else:\n",
    "            info_dict[name] = {}\n",
    "            info_dict[name][tag_key] = tag_value\n",
    "\n",
    "# composer -> information dict (= birthplace -> Pittsburgh ...)\n",
    "composer_information = {}\n",
    "# Set of wikipedia links to composer pages\n",
    "links_set = set()\n",
    "\n",
    "composers = set(get_wiki_page(\"List_of_medieval_composers\").links)\n",
    "links_set |= composers\n",
    "add_information(composer_information, composers, 'genre', 'medieval')\n",
    "\n",
    "composers = set(get_wiki_page(\"List_of_Baroque_composers\").links)\n",
    "links_set |= composers\n",
    "add_information(composer_information, composers, 'genre', 'baroque')\n",
    "\n",
    "composers = set(get_wiki_page(\"List_of_Classical-era_composers\").links)\n",
    "links_set |= composers\n",
    "add_information(composer_information, composers, 'genre', 'classical')\n",
    "\n",
    "composers = set(get_wiki_page(\"List_of_Romantic-era_composers\").links)\n",
    "links_set |= composers\n",
    "add_information(composer_information, composers, 'genre', 'romantic')\n",
    "\n",
    "composers = set(get_wiki_page(\"List_of_20th-century_classical_composers\").links)\n",
    "links_set |= composers\n",
    "add_information(composer_information, composers, 'genre', 'modern')\n",
    "\n",
    "composers = set(get_wiki_page(\"List_of_21st-century_classical_composers\").links)\n",
    "links_set |= composers\n",
    "add_information(composer_information, composers, 'genre', 'contemporary')\n",
    "\n",
    "links = list(links_set)\n",
    "relations = {}\n",
    "composer_count = 0\n",
    "for link in links:\n",
    "    try:\n",
    "        # Obtain wikipedia page corresponding to the composer\n",
    "        composer = get_wiki_page(link)\n",
    "        if composer == None:\n",
    "            continue\n",
    "\n",
    "        # Check if the page indeed relates to a composer\n",
    "        is_composer = False\n",
    "        for category in composer.categories:\n",
    "            if 'composer' in category.lower():\n",
    "                is_composer = True\n",
    "        if not is_composer:\n",
    "            continue\n",
    "\n",
    "        # Only keep composers for which a birthplace and date of birth was provided\n",
    "        has_birthplace = False\n",
    "        has_dob = False\n",
    "        for c in composer.categories:\n",
    "            if c.startswith('People from '):\n",
    "                composer_information[link]['birthplace'] = c[len('People from '):]\n",
    "                has_birthplace = True\n",
    "            if c.endswith(' births'):\n",
    "                composer_information[link]['dob'] = c[:-len(' births')]\n",
    "                has_dob = True\n",
    "        if not (has_birthplace and has_dob):\n",
    "            del composer_information[link]\n",
    "            continue\n",
    "\n",
    "        # If all the filters are passed, add to relations list\n",
    "        relations[link] = composer.links\n",
    "        composer_count += 1\n",
    "        if (composer_count == 1 or composer_count % 10 == 0):\n",
    "            print(\"composer_count: \" + str(composer_count))\n",
    "            \n",
    "    except KeyboardInterrupt:\n",
    "        print(\"Exiting. [KeyboardInterrupt]\")\n",
    "    except :\n",
    "        print(\"ERROR \" + link + \" -----------------------------\")\n",
    "        \n",
    "# In the end we only consider the relations of composers with enough data available        \n",
    "allComposers = composer_information.keys()\n"
   ]
  },
  {
   "cell_type": "code",
   "execution_count": null,
   "metadata": {},
   "outputs": [],
   "source": [
    "def filterComposerRelationsOnly(relationsOfComposer, allComposers):\n",
    "    return [relation for relation in relationsOfComposer if relation in allComposers]\n",
    "\n",
    "relations = {k: filterComposerRelationsOnly(relationsOfComposer, allComposers) for k, relationsOfComposer in relations.items()}"
   ]
  },
  {
   "cell_type": "code",
   "execution_count": null,
   "metadata": {},
   "outputs": [],
   "source": [
    "file = open(\"followerFolloweeRomantic.txt\",\"w\") \n",
    "for followeeComposer,followedComposers in relations.items():\n",
    "    for followedComposer in followedComposers:\n",
    "        file.write(followeeComposer + \",\" + followedComposer + \"\\n\")  \n",
    "file.close() "
   ]
  },
  {
   "cell_type": "code",
   "execution_count": null,
   "metadata": {},
   "outputs": [],
   "source": [
    "file = open('composer_information.txt','w')\n",
    "for name, info in composer_information.items():\n",
    "    if len(info) == 3:\n",
    "        file.write(name + '\\t' + info['dob'] + '\\t' + info['birthplace'] + '\\t' + info['genre'] + '\\n')\n",
    "file.close()"
   ]
  }
 ],
 "metadata": {
  "kernelspec": {
   "display_name": "Python 3",
   "language": "python",
   "name": "python3"
  },
  "language_info": {
   "codemirror_mode": {
    "name": "ipython",
    "version": 3
   },
   "file_extension": ".py",
   "mimetype": "text/x-python",
   "name": "python",
   "nbconvert_exporter": "python",
   "pygments_lexer": "ipython3",
   "version": "3.6.5"
  }
 },
 "nbformat": 4,
 "nbformat_minor": 2
}
