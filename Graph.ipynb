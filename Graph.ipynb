{
 "cells": [
  {
   "cell_type": "code",
   "execution_count": 82,
   "metadata": {},
   "outputs": [],
   "source": [
    "import pandas as pd\n",
    "import numpy as np\n",
    "import matplotlib.pyplot as plt"
   ]
  },
  {
   "cell_type": "code",
   "execution_count": 83,
   "metadata": {},
   "outputs": [],
   "source": [
    "\n",
    "class Graph:\n",
    "\n",
    "    def __init__(self, pair_df):\n",
    "        \n",
    "        # read file at addres filename\n",
    "        \n",
    "        # the set of followers and followee\n",
    "        self.follower_set = set(pair_df[\"follower\"])\n",
    "        self.followee_set = set(pair_df[\"followee\"])\n",
    "        \n",
    "        # the set of people who are not followed by anyone\n",
    "        self.not_followed_set = self.follower_set - self.followee_set\n",
    "     \n",
    "        # the set of vertex in the graph, and its count\n",
    "        self.vertices = self.follower_set | self.followee_set\n",
    "        self.num_vertices = len(self.vertices)   \n",
    "\n",
    "        # create a 2-col df [user, number of people this user follows]\n",
    "        self.follow_count = pair_df.groupby(\"follower\").count().reset_index().rename(columns={\"followee\": \"count\"})\n",
    "        \n",
    "        # finally, get a 3-col df [follower, followee, count]\n",
    "        # where count is the total number of people that the follower follows  \n",
    "        self.followers = pair_df.merge(self.follow_count, on=\"follower\")\n",
    "             \n",
    "        self.follow_count = pair_df.groupby(\"followee\").count()\n",
    "        self.follow_count.columns=[\"count\"]\n",
    "        self.follow_count.sort_values(by=[\"count\"], ascending=False, inplace=True)\n",
    "        self.follow_count.reset_index(inplace=True)\n",
    "    \n",
    "    def get_follow_counts(self):\n",
    "        return self.follow_count\n",
    "    \n",
    "    # compute the page ranks after n_iter iterations, using a sql-like join based implementation\n",
    "    # dumping_factor is the probability to pick a new random page in the graph.\n",
    "    def compute_page_ranks( self, dumping_factor = 0.15, n_iter = 100 ):\n",
    "\n",
    "        # a constant 1 / nVertices\n",
    "        uniform_weight = 1.0/self.num_vertices\n",
    "\n",
    "        # the initial ranks (we will reassign this rdd during the computation)\n",
    "        ranks = pd.DataFrame({\"follower\": list(self.vertices), \"rank\": uniform_weight})\n",
    "\n",
    "        # the random surf term (because sometimes we just go to any random page)\n",
    "        random_surf_term = dumping_factor * uniform_weight\n",
    "\n",
    "        # the weight that a dangling user adds to the other users\n",
    "        # the word 'dangling' refers to users who are followee but not follower\n",
    "        # after such a user, we assume that the surfer choose the next page randomly\n",
    "        dangling_user_factor = (1-dumping_factor) * uniform_weight\n",
    "\n",
    "        # main loop: n_iter iterations\n",
    "        for i in range(n_iter):\n",
    "            \n",
    "            # get a df [follower, rank, followee, count]\n",
    "            # and reduce it to get the ranks from the edges of the graph only\n",
    "            joined_ranks = ranks.merge(self.followers, how=\"left\", on=\"follower\")        \n",
    "\n",
    "            # compute the sum of rank of dangling users\n",
    "            dangling_user_rank_sum = joined_ranks[pd.isna(joined_ranks[\"count\"])][\"rank\"].sum()\n",
    "            \n",
    "            # now, we have everything to update the ranks \n",
    "            # every entry (follower, followee) adds a weight (rank / count) to the new rank of followee,\n",
    "            # where rank is the rank of followers and count the total number of people that follower follows\n",
    "            joined_ranks.dropna(inplace=True)                          \n",
    "            joined_ranks[\"rank\"] = np.divide(joined_ranks[\"rank\"], joined_ranks[\"count\"])\n",
    "            ranks = joined_ranks.groupby(\"followee\")[\"rank\"].sum().reset_index()\n",
    "            ranks.columns = [\"follower\", \"rank\"]\n",
    "\n",
    "            # add random surfer factor and dangling user factors\n",
    "            dangling_user_term = dangling_user_rank_sum * dangling_user_factor\n",
    "            default_term = dangling_user_term + random_surf_term\n",
    "            ranks[\"rank\"] = ranks[\"rank\"].map(lambda rank: default_term + (1-dumping_factor) * rank)\n",
    "            \n",
    "           # then add the ranks for peoples who are not followed by anyone\n",
    "            not_followed_df = pd.DataFrame({\"follower\": list(self.not_followed_set), \"rank\": default_term})\n",
    "            \n",
    "            # concatenate the result with the fixed ranks (rank of people who are not followed)\n",
    "            ranks = pd.concat([ranks, not_followed_df])\n",
    "\n",
    "        # finally, after n_iter iterations, sort the result by rank and break ties lexicographically.\n",
    "        return ranks\\\n",
    "            .sort_values(by=[\"rank\", \"follower\"], ascending=[0, 1])\\\n",
    "            .rename(columns={\"follower\":\"name\"})\\\n",
    "            .reset_index().drop(\"index\", axis=1)"
   ]
  },
  {
   "cell_type": "code",
   "execution_count": 91,
   "metadata": {
    "scrolled": true
   },
   "outputs": [
    {
     "name": "stdout",
     "output_type": "stream",
     "text": [
      "                  followee  count\n",
      "0    Johann Sebastian Bach    229\n",
      "1     Ludwig van Beethoven    209\n",
      "2          Igor Stravinsky    174\n",
      "3  Wolfgang Amadeus Mozart    169\n",
      "4           Richard Wagner    165\n",
      "5        Arnold Schoenberg    153\n",
      "6              Franz Liszt    151\n",
      "7            Aaron Copland    144\n",
      "8          Robert Schumann    143\n",
      "9         Olivier Messiaen    138\n",
      "\n",
      "=======================================\n",
      "\n",
      "                      name      rank\n",
      "0    Johann Sebastian Bach  0.015070\n",
      "1     Ludwig van Beethoven  0.012547\n",
      "2  Wolfgang Amadeus Mozart  0.010260\n",
      "3           Richard Wagner  0.008902\n",
      "4              Franz Liszt  0.008619\n",
      "5          Robert Schumann  0.008052\n",
      "6          Igor Stravinsky  0.007619\n",
      "7             Joseph Haydn  0.007093\n",
      "8          Frédéric Chopin  0.006640\n",
      "9  Nikolai Rimsky-Korsakov  0.006571\n"
     ]
    }
   ],
   "source": [
    "pair_df = pd.read_csv(\"../follower_followee.txt\", names=[\"follower\", \"followee\"])\n",
    "\n",
    "graph = Graph(pair_df)\n",
    "\n",
    "\n",
    "counts = graph.get_follow_counts()\n",
    "print(counts.head(10))\n",
    "\n",
    "print(\"\\n=======================================\\n\")\n",
    "\n",
    "ranks = graph.compute_page_ranks()\n",
    "print(ranks.head(10))\n",
    "\n",
    "\n"
   ]
  },
  {
   "cell_type": "code",
   "execution_count": 85,
   "metadata": {},
   "outputs": [
    {
     "name": "stdout",
     "output_type": "stream",
     "text": [
      "                  name    dob        birthplace     genre\n",
      "0               Peirol  1160s          Auvergne  medieval\n",
      "1     Paolo da Firenze   1355          Florence  medieval\n",
      "2       Nicolas Grenon   1375           Cambrai  medieval\n",
      "3   Raimbaut of Orange   1147  Orange, Vaucluse  medieval\n",
      "4  Folquet de Marselha  1150s         Marseille  medieval\n"
     ]
    }
   ],
   "source": [
    "\n",
    "composers_info = pd.read_csv(\"../composer_information.txt\", sep='\\t', names=[\"name\", \"dob\", \"birthplace\", \"genre\"])\n",
    "print(composers_info.head())"
   ]
  },
  {
   "cell_type": "code",
   "execution_count": 86,
   "metadata": {},
   "outputs": [
    {
     "name": "stdout",
     "output_type": "stream",
     "text": [
      "                  name    dob        birthplace     genre  decade\n",
      "0               Peirol  1160s          Auvergne  medieval  1160.0\n",
      "1     Paolo da Firenze   1355          Florence  medieval  1350.0\n",
      "2       Nicolas Grenon   1375           Cambrai  medieval  1370.0\n",
      "3   Raimbaut of Orange   1147  Orange, Vaucluse  medieval  1140.0\n",
      "4  Folquet de Marselha  1150s         Marseille  medieval  1150.0\n"
     ]
    }
   ],
   "source": [
    "# given the row 'dob' (date of birth), compute the decade\n",
    "def get_decade(dob):\n",
    "    if len(dob) < 4 or not dob[:4].isdigit():\n",
    "        return \n",
    "    return int(dob[:3] + \"0\")\n",
    "\n",
    "# adds the 'decade' column to the dataframe\n",
    "composers_info[\"decade\"] = composers_info[\"dob\"].map(get_decade)\n",
    "\n",
    "print(composers_info.head())"
   ]
  },
  {
   "cell_type": "code",
   "execution_count": 120,
   "metadata": {},
   "outputs": [
    {
     "data": {
      "text/plain": [
       "<matplotlib.axes._subplots.AxesSubplot at 0x1118ebcf8>"
      ]
     },
     "execution_count": 120,
     "metadata": {},
     "output_type": "execute_result"
    },
    {
     "data": {
      "image/png": "[encoded data removed]",
      "text/plain": [
       "<matplotlib.figure.Figure at 0x111eb1f60>"
      ]
     },
     "metadata": {},
     "output_type": "display_data"
    }
   ],
   "source": [
    "ranks_with_info = ranks.merge(composers_info, on=\"name\").dropna()\n",
    "\n",
    "rank_sum_per_decade = ranks_with_info.groupby(\"decade\")[\"rank\"].aggregate(\"sum\").sort_index()\n",
    "\n",
    "rank_sum_per_decade.plot(kind=\"bar\")\n"
   ]
  },
  {
   "cell_type": "code",
   "execution_count": 90,
   "metadata": {
    "scrolled": true
   },
   "outputs": [
    {
     "data": {
      "text/plain": [
       "<matplotlib.axes._subplots.AxesSubplot at 0x111eda198>"
      ]
     },
     "execution_count": 90,
     "metadata": {},
     "output_type": "execute_result"
    },
    {
     "data": {
      "image/png": "[encoded data removed]",
      "text/plain": [
       "<matplotlib.figure.Figure at 0x111e81908>"
      ]
     },
     "metadata": {},
     "output_type": "display_data"
    }
   ],
   "source": [
    "# for each musical genre in wikipedias categories, compute the sums of the ranks of composers of this genre.\n",
    "rank_sum_per_genre = ranks_with_info.groupby(\"genre\")[\"rank\"].aggregate(\"sum\").sort_values(ascending=False)\n",
    "\n",
    "# plot the result to a bar chart\n",
    "rank_sum_per_genre.plot(kind=\"bar\")"
   ]
  },
  {
   "cell_type": "code",
   "execution_count": 121,
   "metadata": {},
   "outputs": [
    {
     "name": "stdout",
     "output_type": "stream",
     "text": [
      "Johann Sebastian Bach <-> Ludwig van Beethoven\n",
      "Johann Sebastian Bach <-> Wolfgang Amadeus Mozart\n",
      "Johann Sebastian Bach <-> Richard Wagner\n",
      "Franz Liszt <-> Johann Sebastian Bach\n",
      "Ludwig van Beethoven <-> Wolfgang Amadeus Mozart\n",
      "Johann Sebastian Bach <-> Robert Schumann\n",
      "Ludwig van Beethoven <-> Richard Wagner\n",
      "Franz Liszt <-> Ludwig van Beethoven\n",
      "Johann Sebastian Bach <-> Joseph Haydn\n",
      "Ludwig van Beethoven <-> Robert Schumann\n"
     ]
    }
   ],
   "source": [
    "# heap-based implementation to find the n largest items\n",
    "from heapq import nlargest\n",
    "\n",
    "# use the results of the page rank to compute the n most important links in wikipedia composers page\n",
    "def most_important_links(n=10):\n",
    "\n",
    "    ranks_dict = ranks.set_index(\"name\").to_dict()[\"rank\"]\n",
    "    weight_set = set()\n",
    "    \n",
    "    def concat_names(name1, name2):\n",
    "        n1, n2 = sorted((name1, name2))\n",
    "        return n1 + \" <-> \" + n2\n",
    "    \n",
    "    def weight(name1, name2):\n",
    "        return ranks_dict[name1] * ranks_dict[name2]\n",
    "    \n",
    "    for _, row in pair_df.iterrows():\n",
    "        n1, n2 = ( row[\"follower\"], row[\"followee\"] )\n",
    "        tmp = ( concat_names(n1, n2), weight(n1, n2) )\n",
    "        weight_set.add(tmp)\n",
    "        \n",
    "    bests = nlargest(n, weight_set, key=lambda pair: pair[1])\n",
    "    \n",
    "    return [names for names, _ in bests]\n",
    "\n",
    "    \n",
    "for link in most_important_links():\n",
    "    print(link)"
   ]
  },
  {
   "cell_type": "markdown",
   "metadata": {},
   "source": []
  },
  {
   "cell_type": "code",
   "execution_count": null,
   "metadata": {},
   "outputs": [],
   "source": []
  }
 ],
 "metadata": {
  "kernelspec": {
   "display_name": "Python 3",
   "language": "python",
   "name": "python3"
  },
  "language_info": {
   "codemirror_mode": {
    "name": "ipython",
    "version": 3
   },
   "file_extension": ".py",
   "mimetype": "text/x-python",
   "name": "python",
   "nbconvert_exporter": "python",
   "pygments_lexer": "ipython3",
   "version": "3.6.4"
  }
 },
 "nbformat": 4,
 "nbformat_minor": 2
}
